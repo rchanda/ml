{
 "cells": [
  {
   "cell_type": "code",
   "execution_count": 1,
   "metadata": {},
   "outputs": [],
   "source": [
    "import pandas as pd"
   ]
  },
  {
   "cell_type": "markdown",
   "metadata": {},
   "source": [
    "## Series"
   ]
  },
  {
   "cell_type": "code",
   "execution_count": 2,
   "metadata": {},
   "outputs": [
    {
     "name": "stdout",
     "output_type": "stream",
     "text": [
      "r1    1\n",
      "r2    2\n",
      "r3    3\n",
      "dtype: int64\n",
      "[1 2 3] Index(['r1', 'r2', 'r3'], dtype='object')\n"
     ]
    }
   ],
   "source": [
    "s = pd.Series(data=[1,2,3], index=['r1', 'r2', 'r3'])\n",
    "\n",
    "print(s)\n",
    "print(s.values, s.index)"
   ]
  },
  {
   "cell_type": "markdown",
   "metadata": {},
   "source": [
    "## DataFrame"
   ]
  },
  {
   "cell_type": "code",
   "execution_count": 3,
   "metadata": {},
   "outputs": [],
   "source": [
    "# columns based storage"
   ]
  },
  {
   "cell_type": "code",
   "execution_count": 4,
   "metadata": {},
   "outputs": [
    {
     "name": "stdout",
     "output_type": "stream",
     "text": [
      "    c1  c2  c3\n",
      "r1   1   2   3\n",
      "r2   4   5   6\n"
     ]
    }
   ],
   "source": [
    "df = pd.DataFrame(data=[[1,2,3], [4,5,6]], columns=['c1', 'c2', 'c3'], index=['r1', 'r2'])\n",
    "\n",
    "print(df)"
   ]
  },
  {
   "cell_type": "code",
   "execution_count": 5,
   "metadata": {},
   "outputs": [
    {
     "name": "stdout",
     "output_type": "stream",
     "text": [
      "    c1  c2  c3\n",
      "r1   1   2   3\n",
      "r2   4   5   6\n",
      "[[1 2 3]\n",
      " [4 5 6]]\n"
     ]
    }
   ],
   "source": [
    "cols = ['c1', 'c2', 'c3']\n",
    "list_of_series = [pd.Series([1,2,3],index=cols), pd.Series([4,5,6],index=cols)]\n",
    "df = pd.DataFrame(list_of_series, columns=cols, index=['r1', 'r2'])\n",
    "\n",
    "print(df)\n",
    "print(df.values)"
   ]
  },
  {
   "cell_type": "markdown",
   "metadata": {},
   "source": [
    "### Primary Indexing"
   ]
  },
  {
   "cell_type": "code",
   "execution_count": 6,
   "metadata": {},
   "outputs": [],
   "source": [
    "# select columns"
   ]
  },
  {
   "cell_type": "code",
   "execution_count": 7,
   "metadata": {},
   "outputs": [
    {
     "name": "stdout",
     "output_type": "stream",
     "text": [
      "r1    1\n",
      "r2    4\n",
      "Name: c1, dtype: int64 [1 4]\n",
      "    c1  c2\n",
      "r1   1   2\n",
      "r2   4   5\n"
     ]
    },
    {
     "data": {
      "text/plain": [
       "numpy.ndarray"
      ]
     },
     "execution_count": 7,
     "metadata": {},
     "output_type": "execute_result"
    }
   ],
   "source": [
    "print(df['c1'], df['c1'].values)\n",
    "\n",
    "print(df[['c1', 'c2']])\n",
    "\n",
    "type(df['c1'].values)"
   ]
  },
  {
   "cell_type": "markdown",
   "metadata": {},
   "source": [
    "### Implicit Indexing"
   ]
  },
  {
   "cell_type": "code",
   "execution_count": 8,
   "metadata": {},
   "outputs": [],
   "source": [
    "# 1. 0-based\n",
    "# 2. lower included - upper excluded\n",
    "# 3. Pure Integer based"
   ]
  },
  {
   "cell_type": "code",
   "execution_count": 9,
   "metadata": {},
   "outputs": [
    {
     "name": "stdout",
     "output_type": "stream",
     "text": [
      "    c1  c2  c3\n",
      "r1   1   2   3\n",
      "r2   4   5   6\n",
      "c1    4\n",
      "c2    5\n",
      "c3    6\n",
      "Name: r2, dtype: int64\n",
      "6\n"
     ]
    }
   ],
   "source": [
    "print(df)\n",
    "\n",
    "print(df.iloc[1])\n",
    "print(df.iloc[1, 2])"
   ]
  },
  {
   "cell_type": "markdown",
   "metadata": {},
   "source": [
    "### Explicit Indexing"
   ]
  },
  {
   "cell_type": "code",
   "execution_count": 10,
   "metadata": {},
   "outputs": [],
   "source": [
    "# 1. Pure label based\n",
    "# 2. lower and upper included"
   ]
  },
  {
   "cell_type": "code",
   "execution_count": 11,
   "metadata": {},
   "outputs": [
    {
     "name": "stdout",
     "output_type": "stream",
     "text": [
      "    c1  c2  c3\n",
      "r1   1   2   3\n",
      "r2   4   5   6\n",
      "c2    2\n",
      "c3    3\n",
      "Name: r1, dtype: int64\n"
     ]
    }
   ],
   "source": [
    "print(df.loc[:'r2'])\n",
    "print(df.loc['r1', 'c2':'c3'])"
   ]
  },
  {
   "cell_type": "code",
   "execution_count": null,
   "metadata": {},
   "outputs": [],
   "source": []
  }
 ],
 "metadata": {
  "kernelspec": {
   "display_name": "venv",
   "language": "python",
   "name": "venv"
  },
  "language_info": {
   "codemirror_mode": {
    "name": "ipython",
    "version": 3
   },
   "file_extension": ".py",
   "mimetype": "text/x-python",
   "name": "python",
   "nbconvert_exporter": "python",
   "pygments_lexer": "ipython3",
   "version": "3.6.5"
  }
 },
 "nbformat": 4,
 "nbformat_minor": 2
}
